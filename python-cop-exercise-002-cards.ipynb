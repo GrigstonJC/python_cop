{
 "cells": [
  {
   "cell_type": "code",
   "execution_count": 58,
   "metadata": {},
   "outputs": [],
   "source": [
    "import random\n",
    "\n",
    "class CardDeck:\n",
    "    \"\"\"Class to simulate a deck of cards.\n",
    "    Args:\n",
    "        deck_type (string, optional):   string indicating the type of deck,\n",
    "                                        either standard or tarokka;\n",
    "                                        ignored if custom_deck is not empty\n",
    "        num_decks (integer, optional):  number of individual decks to include;\n",
    "                                        should be a positive integer\n",
    "        custom_deck (list, optional):   list of cards included in a custom deck;\n",
    "                                        should be a list of strings\n",
    "        \n",
    "    Attributes:\n",
    "        deck (list):                    list of cards in the deck\n",
    "        discard (list):                 list of cards that have been drawn from the deck\n",
    "        \n",
    "    Methods:\n",
    "        shuffle                         returns drawn cards to the deck and randomizes order      \n",
    "        draw                            draws the requested number of cards from the deck\n",
    "    \"\"\"\n",
    "\n",
    "    def __init__(self, deck_type='standard', num_decks=1, custom_deck=[]):\n",
    "        self.deck = self._generate_deck(deck_type, num_decks, custom_deck)\n",
    "        self.discard = []\n",
    "        \n",
    "    def _generate_deck(self, deck_type, num_decks, custom_deck):\n",
    "        if len(custom_deck) > 0:\n",
    "            return custom_deck * num_decks\n",
    "        elif deck_type == 'standard':\n",
    "            suits = ['Hearts','Diamonds','Clubs','Spades']\n",
    "            ranks = ['2','3','4','5','6','7','8','9','10','Jack','Queen','King','Ace']\n",
    "            return ['{} of {}'.format(r, s) for r in ranks for s in suits] * num_decks\n",
    "        elif deck_type == 'tarokka':\n",
    "            cards = ['The Artifact','The Hangman','The Beast','The Horseman','The Broken One',\n",
    "                     'The Innocent','The Darklord','The Marionette','The Donjon','The Mists',\n",
    "                     'The Esper','The Raven','The Ghost','The Temptress','The Avenger',\n",
    "                     'The Paladin','The Soldier','The Mercenary','The Myrmidon','The Berserker',\n",
    "                     'The Hooded Man','The Dictator','The Torturer','The Swashbuckler',\n",
    "                     'The Philanthropist','The Trader','The Merchant','The Guildsman',\n",
    "                     'The Beggar','The Thief','The Tax Collector','The Miser','The Transmuter',\n",
    "                     'The Diviner','The Enchanter','The Abjurer','The Elementalist',\n",
    "                     'The Invoker','The Illusionist','The Necromancer','The Conjurer','The Monk',\n",
    "                     'The Missionary','The Healer','The Shepherd','The Druid','The Anarchist',\n",
    "                     'The Charlatan','The Bishop','The Traitor']\n",
    "            return cards * num_decks\n",
    "        else:\n",
    "            suits = ['Hearts','Diamonds','Clubs','Spades']\n",
    "            ranks = ['2','3','4','5','6','7','8','9','10','Jack','Queen','King','Ace']\n",
    "            return ['{} of {}'.format(r, s) for r in ranks for s in suits]\n",
    "        \n",
    "    def shuffle(self):\n",
    "        self.deck = self.deck + self.discard\n",
    "        self.discard = []\n",
    "        random.shuffle(self.deck)\n",
    "        \n",
    "    def draw(self, num_cards=1):\n",
    "        if len(self.deck) >= num_cards:\n",
    "            drawn_cards = self.deck[0:num_cards]\n",
    "            self.discard = self.discard + drawn_cards\n",
    "            self.deck = self.deck[num_cards:]\n",
    "        else:\n",
    "            drawn_cards = self.deck[len(self.deck)]\n",
    "            self.discard = self.discard + drawn_cards\n",
    "            self.deck = []\n",
    "        return drawn_cards\n",
    "        "
   ]
  },
  {
   "cell_type": "markdown",
   "metadata": {},
   "source": [
    "#### Create a new standard deck and shuffle the cards"
   ]
  },
  {
   "cell_type": "code",
   "execution_count": 59,
   "metadata": {
    "scrolled": true
   },
   "outputs": [
    {
     "name": "stdout",
     "output_type": "stream",
     "text": [
      "Cards in deck:\n",
      "['10 of Diamonds', '9 of Diamonds', 'Ace of Hearts', '5 of Spades', '7 of Spades', '8 of Hearts', 'King of Spades', '10 of Spades', '5 of Diamonds', 'King of Hearts', 'Jack of Hearts', '7 of Diamonds', '3 of Hearts', '2 of Hearts', '8 of Diamonds', '9 of Clubs', '6 of Clubs', '10 of Hearts', '8 of Clubs', '3 of Spades', 'Queen of Spades', '6 of Spades', '4 of Spades', '4 of Diamonds', '2 of Diamonds', 'Queen of Clubs', 'Ace of Spades', 'Queen of Hearts', '4 of Clubs', 'King of Diamonds', '2 of Spades', '7 of Clubs', 'Jack of Diamonds', '2 of Clubs', 'King of Clubs', '5 of Hearts', '8 of Spades', '6 of Diamonds', '9 of Hearts', 'Jack of Clubs', '5 of Clubs', 'Jack of Spades', 'Queen of Diamonds', 'Ace of Diamonds', '6 of Hearts', '4 of Hearts', '9 of Spades', '3 of Clubs', '7 of Hearts', '10 of Clubs', 'Ace of Clubs', '3 of Diamonds']\n"
     ]
    }
   ],
   "source": [
    "my_deck = CardDeck()\n",
    "my_deck.shuffle()\n",
    "print('Cards in deck:')\n",
    "print(my_deck.deck)"
   ]
  },
  {
   "cell_type": "markdown",
   "metadata": {},
   "source": [
    "#### Draw five cards from the deck"
   ]
  },
  {
   "cell_type": "code",
   "execution_count": 60,
   "metadata": {},
   "outputs": [
    {
     "name": "stdout",
     "output_type": "stream",
     "text": [
      "Cards in hand:\n",
      "['10 of Diamonds', '9 of Diamonds', 'Ace of Hearts', '5 of Spades', '7 of Spades']\n",
      "\n",
      "Cards in deck:\n",
      "['8 of Hearts', 'King of Spades', '10 of Spades', '5 of Diamonds', 'King of Hearts', 'Jack of Hearts', '7 of Diamonds', '3 of Hearts', '2 of Hearts', '8 of Diamonds', '9 of Clubs', '6 of Clubs', '10 of Hearts', '8 of Clubs', '3 of Spades', 'Queen of Spades', '6 of Spades', '4 of Spades', '4 of Diamonds', '2 of Diamonds', 'Queen of Clubs', 'Ace of Spades', 'Queen of Hearts', '4 of Clubs', 'King of Diamonds', '2 of Spades', '7 of Clubs', 'Jack of Diamonds', '2 of Clubs', 'King of Clubs', '5 of Hearts', '8 of Spades', '6 of Diamonds', '9 of Hearts', 'Jack of Clubs', '5 of Clubs', 'Jack of Spades', 'Queen of Diamonds', 'Ace of Diamonds', '6 of Hearts', '4 of Hearts', '9 of Spades', '3 of Clubs', '7 of Hearts', '10 of Clubs', 'Ace of Clubs', '3 of Diamonds']\n",
      "\n",
      "Cards drawn so far:\n",
      "['10 of Diamonds', '9 of Diamonds', 'Ace of Hearts', '5 of Spades', '7 of Spades']\n"
     ]
    }
   ],
   "source": [
    "cards = my_deck.draw(5)\n",
    "\n",
    "print('Cards in hand:')\n",
    "print(cards)\n",
    "print('\\nCards in deck:')\n",
    "print(my_deck.deck)\n",
    "print('\\nCards drawn so far:')\n",
    "print(my_deck.discard)"
   ]
  },
  {
   "cell_type": "markdown",
   "metadata": {},
   "source": [
    "#### Draw ten more cards"
   ]
  },
  {
   "cell_type": "code",
   "execution_count": 61,
   "metadata": {},
   "outputs": [
    {
     "name": "stdout",
     "output_type": "stream",
     "text": [
      "Cards in hand:\n",
      "['8 of Hearts', 'King of Spades', '10 of Spades', '5 of Diamonds', 'King of Hearts', 'Jack of Hearts', '7 of Diamonds', '3 of Hearts', '2 of Hearts', '8 of Diamonds']\n",
      "\n",
      "Cards in deck:\n",
      "['9 of Clubs', '6 of Clubs', '10 of Hearts', '8 of Clubs', '3 of Spades', 'Queen of Spades', '6 of Spades', '4 of Spades', '4 of Diamonds', '2 of Diamonds', 'Queen of Clubs', 'Ace of Spades', 'Queen of Hearts', '4 of Clubs', 'King of Diamonds', '2 of Spades', '7 of Clubs', 'Jack of Diamonds', '2 of Clubs', 'King of Clubs', '5 of Hearts', '8 of Spades', '6 of Diamonds', '9 of Hearts', 'Jack of Clubs', '5 of Clubs', 'Jack of Spades', 'Queen of Diamonds', 'Ace of Diamonds', '6 of Hearts', '4 of Hearts', '9 of Spades', '3 of Clubs', '7 of Hearts', '10 of Clubs', 'Ace of Clubs', '3 of Diamonds']\n",
      "\n",
      "Cards drawn so far:\n",
      "['10 of Diamonds', '9 of Diamonds', 'Ace of Hearts', '5 of Spades', '7 of Spades', '8 of Hearts', 'King of Spades', '10 of Spades', '5 of Diamonds', 'King of Hearts', 'Jack of Hearts', '7 of Diamonds', '3 of Hearts', '2 of Hearts', '8 of Diamonds']\n"
     ]
    }
   ],
   "source": [
    "cards = my_deck.draw(10)\n",
    "\n",
    "print('Cards in hand:')\n",
    "print(cards)\n",
    "print('\\nCards in deck:')\n",
    "print(my_deck.deck)\n",
    "print('\\nCards drawn so far:')\n",
    "print(my_deck.discard)"
   ]
  },
  {
   "cell_type": "markdown",
   "metadata": {},
   "source": [
    "#### Reshuffle the deck"
   ]
  },
  {
   "cell_type": "code",
   "execution_count": 62,
   "metadata": {},
   "outputs": [
    {
     "name": "stdout",
     "output_type": "stream",
     "text": [
      "Cards in deck:\n",
      "['2 of Spades', 'Ace of Diamonds', 'Ace of Hearts', 'Ace of Clubs', '6 of Clubs', 'King of Spades', 'Jack of Hearts', 'Jack of Diamonds', '10 of Hearts', '5 of Diamonds', 'Queen of Spades', '3 of Spades', 'Ace of Spades', '3 of Hearts', 'King of Diamonds', '5 of Clubs', '9 of Hearts', '7 of Clubs', '8 of Diamonds', '5 of Spades', '4 of Hearts', '4 of Diamonds', '10 of Spades', '4 of Spades', '9 of Clubs', 'Jack of Clubs', 'Queen of Clubs', '5 of Hearts', 'Queen of Diamonds', '9 of Diamonds', '10 of Diamonds', '2 of Clubs', '7 of Hearts', '3 of Diamonds', '2 of Diamonds', '4 of Clubs', 'King of Clubs', '6 of Diamonds', '8 of Spades', '8 of Clubs', '7 of Spades', '2 of Hearts', '3 of Clubs', '8 of Hearts', '6 of Spades', '10 of Clubs', 'Jack of Spades', '6 of Hearts', 'Queen of Hearts', 'King of Hearts', '9 of Spades', '7 of Diamonds']\n",
      "\n",
      "Cards drawn so far:\n",
      "[]\n"
     ]
    }
   ],
   "source": [
    "my_deck.shuffle()\n",
    "\n",
    "print('Cards in deck:')\n",
    "print(my_deck.deck)\n",
    "print('\\nCards drawn so far:')\n",
    "print(my_deck.discard)"
   ]
  },
  {
   "cell_type": "markdown",
   "metadata": {},
   "source": [
    "#### Create a single deck from multiple decks of cards"
   ]
  },
  {
   "cell_type": "code",
   "execution_count": 63,
   "metadata": {},
   "outputs": [
    {
     "name": "stdout",
     "output_type": "stream",
     "text": [
      "Cards in deck:\n",
      "['8 of Clubs', '2 of Diamonds', '2 of Clubs', 'Ace of Clubs', 'Jack of Clubs', '4 of Clubs', '5 of Diamonds', 'Queen of Diamonds', 'Ace of Hearts', '5 of Spades', 'Queen of Clubs', '5 of Diamonds', '5 of Clubs', 'Ace of Spades', 'Ace of Spades', '2 of Hearts', '4 of Diamonds', '3 of Clubs', '6 of Spades', '4 of Hearts', '10 of Hearts', '10 of Hearts', 'King of Hearts', '9 of Spades', 'Jack of Clubs', 'Queen of Spades', 'Queen of Clubs', '2 of Spades', '10 of Clubs', '5 of Diamonds', 'King of Clubs', '8 of Diamonds', '2 of Hearts', 'King of Diamonds', '5 of Hearts', 'King of Diamonds', '5 of Spades', 'Queen of Spades', '7 of Diamonds', '4 of Hearts', '10 of Diamonds', '8 of Diamonds', '9 of Diamonds', '8 of Spades', '3 of Diamonds', '8 of Clubs', 'Jack of Clubs', 'Queen of Clubs', '9 of Hearts', 'Ace of Clubs', '10 of Diamonds', '3 of Clubs', 'Jack of Spades', '7 of Diamonds', '7 of Spades', 'Jack of Hearts', '9 of Clubs', '4 of Clubs', 'Jack of Hearts', 'Jack of Diamonds', '6 of Hearts', '3 of Hearts', 'Ace of Diamonds', '7 of Spades', '2 of Spades', '2 of Diamonds', '10 of Diamonds', '3 of Diamonds', 'Queen of Hearts', '10 of Spades', '6 of Spades', '5 of Spades', '10 of Clubs', '3 of Spades', 'King of Clubs', '7 of Clubs', 'Jack of Hearts', '9 of Diamonds', 'King of Clubs', 'Jack of Diamonds', 'King of Spades', '8 of Spades', 'King of Spades', '9 of Clubs', '3 of Diamonds', 'King of Spades', '3 of Hearts', '7 of Hearts', 'Queen of Hearts', '7 of Clubs', '7 of Spades', '2 of Hearts', 'Jack of Diamonds', '10 of Clubs', 'Ace of Clubs', '6 of Clubs', '10 of Spades', '6 of Diamonds', 'Jack of Spades', '6 of Clubs', '10 of Spades', '4 of Hearts', '3 of Spades', '9 of Spades', 'Queen of Diamonds', '4 of Spades', '10 of Hearts', '2 of Clubs', '3 of Clubs', '8 of Hearts', '4 of Clubs', '2 of Diamonds', '8 of Spades', '2 of Spades', '9 of Hearts', '7 of Hearts', '9 of Diamonds', 'Queen of Spades', '4 of Spades', '8 of Hearts', '4 of Spades', '7 of Hearts', '8 of Diamonds', 'Ace of Hearts', '7 of Diamonds', '6 of Spades', '9 of Clubs', '6 of Diamonds', '7 of Clubs', 'King of Hearts', '3 of Hearts', '9 of Hearts', '8 of Hearts', '5 of Clubs', '5 of Clubs', '6 of Hearts', '4 of Diamonds', 'Jack of Spades', '3 of Spades', '9 of Spades', '6 of Clubs', 'Queen of Diamonds', 'Ace of Diamonds', '2 of Clubs', 'Ace of Hearts', '6 of Diamonds', 'King of Diamonds', '6 of Hearts', '5 of Hearts', 'Ace of Spades', 'Ace of Diamonds', 'King of Hearts', '5 of Hearts', '4 of Diamonds', '8 of Clubs', 'Queen of Hearts']\n"
     ]
    }
   ],
   "source": [
    "my_multi_deck = CardDeck(num_decks=3)\n",
    "my_multi_deck.shuffle()\n",
    "print('Cards in deck:')\n",
    "print(my_multi_deck.deck)"
   ]
  },
  {
   "cell_type": "markdown",
   "metadata": {},
   "source": [
    "#### Create a Tarokka deck\n",
    "(Tarot-like deck from the Ravenloft D&D setting)"
   ]
  },
  {
   "cell_type": "code",
   "execution_count": 64,
   "metadata": {
    "scrolled": true
   },
   "outputs": [
    {
     "name": "stdout",
     "output_type": "stream",
     "text": [
      "Cards in deck:\n",
      "['The Monk', 'The Elementalist', 'The Charlatan', 'The Trader', 'The Darklord', 'The Traitor', 'The Miser', 'The Innocent', 'The Broken One', 'The Hangman', 'The Invoker', 'The Mercenary', 'The Anarchist', 'The Healer', 'The Torturer', 'The Artifact', 'The Myrmidon', 'The Ghost', 'The Guildsman', 'The Hooded Man', 'The Philanthropist', 'The Missionary', 'The Enchanter', 'The Paladin', 'The Diviner', 'The Druid', 'The Merchant', 'The Raven', 'The Marionette', 'The Temptress', 'The Horseman', 'The Conjurer', 'The Soldier', 'The Illusionist', 'The Shepherd', 'The Beast', 'The Beggar', 'The Esper', 'The Donjon', 'The Mists', 'The Swashbuckler', 'The Abjurer', 'The Berserker', 'The Bishop', 'The Necromancer', 'The Thief', 'The Tax Collector', 'The Dictator', 'The Avenger', 'The Transmuter']\n"
     ]
    }
   ],
   "source": [
    "my_tarokka_deck = CardDeck(deck_type='tarokka')\n",
    "my_tarokka_deck.shuffle()\n",
    "print('Cards in deck:')\n",
    "print(my_tarokka_deck.deck)"
   ]
  },
  {
   "cell_type": "markdown",
   "metadata": {},
   "source": [
    "#### Create a custom deck"
   ]
  },
  {
   "cell_type": "code",
   "execution_count": 65,
   "metadata": {},
   "outputs": [
    {
     "name": "stdout",
     "output_type": "stream",
     "text": [
      "Cards in deck:\n",
      "['Red', 'Yellow', 'Violet', 'Indigo', 'Green', 'Blue', 'Orange']\n"
     ]
    }
   ],
   "source": [
    "custom_cards = ['Red', 'Orange', 'Yellow', 'Green', 'Blue', 'Indigo', 'Violet']\n",
    "my_custom_deck = CardDeck(custom_deck=custom_cards)\n",
    "my_custom_deck.shuffle()\n",
    "print('Cards in deck:')\n",
    "print(my_custom_deck.deck)"
   ]
  },
  {
   "cell_type": "code",
   "execution_count": null,
   "metadata": {},
   "outputs": [],
   "source": []
  }
 ],
 "metadata": {
  "kernelspec": {
   "display_name": "Python 3",
   "language": "python",
   "name": "python3"
  },
  "language_info": {
   "codemirror_mode": {
    "name": "ipython",
    "version": 3
   },
   "file_extension": ".py",
   "mimetype": "text/x-python",
   "name": "python",
   "nbconvert_exporter": "python",
   "pygments_lexer": "ipython3",
   "version": "3.7.4"
  }
 },
 "nbformat": 4,
 "nbformat_minor": 2
}
